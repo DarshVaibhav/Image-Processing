{
 "cells": [
  {
   "cell_type": "code",
   "execution_count": 1,
   "id": "42fcac1c",
   "metadata": {},
   "outputs": [],
   "source": [
    "import cv2 as cv\n",
    "import numpy as np\n",
    "import matplotlib.pyplot as plt"
   ]
  },
  {
   "cell_type": "markdown",
   "id": "115fca1d",
   "metadata": {},
   "source": [
    "## Edge Detection + Blur"
   ]
  },
  {
   "cell_type": "code",
   "execution_count": 2,
   "id": "57948f8f",
   "metadata": {},
   "outputs": [],
   "source": [
    "cam = cv.VideoCapture(0)\n",
    "\n",
    "while True:\n",
    "    \n",
    "    _, img = cam.read()\n",
    "    \n",
    "    img = cv.flip(img,1)                # Original Frame\n",
    "    \n",
    "    blr = cv.blur(img,(5,5))            # Blur on Original Frame\n",
    "    edg = cv.Canny(img, 0,50)        # Edge Detection on Original Frame\n",
    "    fin = cv.Canny(blr, 0,50)        # Edge Detection on Blur Frame\n",
    "    \n",
    "    \n",
    "    cv.imshow(\"Original\", img)\n",
    "    cv.imshow(\"Blur\"    , blr)\n",
    "    cv.imshow(\"Edges\"   , edg)\n",
    "    cv.imshow(\"Final\"   , fin)\n",
    "    \n",
    "    if cv.waitKey(10) == 27:\n",
    "        cam.release()\n",
    "        break"
   ]
  },
  {
   "cell_type": "code",
   "execution_count": null,
   "id": "83a98972",
   "metadata": {},
   "outputs": [],
   "source": []
  }
 ],
 "metadata": {
  "kernelspec": {
   "display_name": "Python 3 (ipykernel)",
   "language": "python",
   "name": "python3"
  },
  "language_info": {
   "codemirror_mode": {
    "name": "ipython",
    "version": 3
   },
   "file_extension": ".py",
   "mimetype": "text/x-python",
   "name": "python",
   "nbconvert_exporter": "python",
   "pygments_lexer": "ipython3",
   "version": "3.9.13"
  }
 },
 "nbformat": 4,
 "nbformat_minor": 5
}
