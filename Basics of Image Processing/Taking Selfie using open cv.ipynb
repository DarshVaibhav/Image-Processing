{
 "cells": [
  {
   "cell_type": "code",
   "execution_count": 1,
   "id": "131b0ac2",
   "metadata": {},
   "outputs": [],
   "source": [
    "import cv2 as cv\n",
    "import numpy as np\n",
    "import matplotlib.pyplot as plt"
   ]
  },
  {
   "cell_type": "code",
   "execution_count": 2,
   "id": "04b007cb",
   "metadata": {},
   "outputs": [],
   "source": [
    "# Taking Selfie\n",
    "cam = cv.VideoCapture(0)\n",
    "\n",
    "while True:\n",
    "\n",
    "    _, img = cam.read()\n",
    "    \n",
    "    img = cv.flip(img, 1)\n",
    "\n",
    "    cv.imshow(\"Frame\",img)\n",
    "    \n",
    "    key = cv.waitKey(20) #speed of frames large value slower the frame speed\n",
    "    \n",
    "    if (key == 27):  \n",
    "        cam.release()\n",
    "        break\n",
    "        \n",
    "    if (key == 13):\n",
    "        cv.imwrite('Selfie.png', img)\n",
    "        cam.release()\n",
    "        break "
   ]
  },
  {
   "cell_type": "code",
   "execution_count": null,
   "id": "4672ffed",
   "metadata": {},
   "outputs": [],
   "source": [
    "cv.waitKey(0)"
   ]
  },
  {
   "cell_type": "code",
   "execution_count": 2,
   "id": "7276505e",
   "metadata": {},
   "outputs": [],
   "source": [
    "#Adding grey Scale   \n",
    "cam = cv.VideoCapture(0)\n",
    "\n",
    "while True:\n",
    "\n",
    "    _, img = cam.read()\n",
    "    \n",
    "    img = cv.flip(img, 1) \n",
    "    \n",
    "    gray = cv.cvtColor(img, cv.COLOR_RGB2GRAY)\n",
    "    hsv  = cv.cvtColor(img, cv.COLOR_RGB2HSV)\n",
    "   \n",
    "    cv.imshow(\"Frame\",img)\n",
    "    \n",
    "    key = cv.waitKey(20)\n",
    "    \n",
    "    if (key == 13):\n",
    "        \n",
    "        cv.imwrite('Selfie.png', img)\n",
    "        cv.imwrite('Selfie_Gray.png', gray)\n",
    "        cv.imwrite('Selfie_HSV.png', hsv)\n",
    "        cam.release()\n",
    "        \n",
    "        break"
   ]
  },
  {
   "cell_type": "code",
   "execution_count": null,
   "id": "0f213c30",
   "metadata": {},
   "outputs": [],
   "source": []
  }
 ],
 "metadata": {
  "kernelspec": {
   "display_name": "Python 3 (ipykernel)",
   "language": "python",
   "name": "python3"
  },
  "language_info": {
   "codemirror_mode": {
    "name": "ipython",
    "version": 3
   },
   "file_extension": ".py",
   "mimetype": "text/x-python",
   "name": "python",
   "nbconvert_exporter": "python",
   "pygments_lexer": "ipython3",
   "version": "3.9.13"
  }
 },
 "nbformat": 4,
 "nbformat_minor": 5
}
