{
 "cells": [
  {
   "cell_type": "code",
   "execution_count": 2,
   "id": "8c853bf7",
   "metadata": {},
   "outputs": [],
   "source": [
    "import cv2 as cv\n",
    "import numpy as np\n",
    "import matplotlib.pyplot as plt"
   ]
  },
  {
   "cell_type": "markdown",
   "id": "6cc4e0c0",
   "metadata": {},
   "source": [
    "## Draw the rectangle"
   ]
  },
  {
   "cell_type": "code",
   "execution_count": 2,
   "id": "f701b1eb",
   "metadata": {},
   "outputs": [],
   "source": [
    "cam = cv.VideoCapture(0)\n",
    "\n",
    "while True:\n",
    "\n",
    "    _, img = cam.read()\n",
    "    \n",
    "    img = cv.flip(img, 1) \n",
    "   \n",
    "    img = cv.rectangle(img,(400,100),(800,600), (255,0,0),3)\n",
    "    img = cv.rectangle(img,(395,95) ,(805,605), (0,255,0),3)\n",
    "    img = cv.rectangle(img,(390,90) ,(810,610), (0,0,255),3)\n",
    "\n",
    "    cv.imshow(\"Frame\",img)\n",
    "    \n",
    "    key = cv.waitKey(10)\n",
    "    \n",
    "    if (key == 27):                                       \n",
    "        cam.release()\n",
    "        break"
   ]
  },
  {
   "cell_type": "markdown",
   "id": "62ccfe55",
   "metadata": {},
   "source": [
    "## Draw the Circle "
   ]
  },
  {
   "cell_type": "code",
   "execution_count": 3,
   "id": "62ce100b",
   "metadata": {},
   "outputs": [],
   "source": [
    "cam = cv.VideoCapture(0)\n",
    "\n",
    "while True:\n",
    "\n",
    "    _, img = cam.read()\n",
    "    \n",
    "    img = cv.flip(img, 1) \n",
    "    \n",
    "    img = cv.circle(img,(640,360), 650, (160,67,93), 200) #650 changes the radius of frame\n",
    "\n",
    "    cv.imshow(\"Frame\",img)\n",
    "    \n",
    "    key = cv.waitKey(10)\n",
    "       \n",
    "    if (key == 27):                                       \n",
    "        cam.release()\n",
    "        break"
   ]
  },
  {
   "cell_type": "markdown",
   "id": "b511957c",
   "metadata": {},
   "source": [
    "## Writing text"
   ]
  },
  {
   "cell_type": "code",
   "execution_count": 4,
   "id": "95082005",
   "metadata": {},
   "outputs": [],
   "source": [
    "cam = cv.VideoCapture(0)\n",
    "\n",
    "while True:\n",
    "\n",
    "    _, img = cam.read()\n",
    "    \n",
    "    img = cv.flip(img, 1) \n",
    "\n",
    "    img = cv.putText(img, 'Ashish Jangra',(10,30), cv.FONT_HERSHEY_PLAIN, 2, (160,67,93), 2)\n",
    "\n",
    "    cv.imshow(\"Frame\",img)\n",
    "    \n",
    "    key = cv.waitKey(10)\n",
    "    \n",
    "    if (key == 27):                                       \n",
    "        cam.release()\n",
    "        break"
   ]
  },
  {
   "cell_type": "code",
   "execution_count": null,
   "id": "2538f1f3",
   "metadata": {},
   "outputs": [],
   "source": []
  }
 ],
 "metadata": {
  "kernelspec": {
   "display_name": "Python 3 (ipykernel)",
   "language": "python",
   "name": "python3"
  },
  "language_info": {
   "codemirror_mode": {
    "name": "ipython",
    "version": 3
   },
   "file_extension": ".py",
   "mimetype": "text/x-python",
   "name": "python",
   "nbconvert_exporter": "python",
   "pygments_lexer": "ipython3",
   "version": "3.9.13"
  }
 },
 "nbformat": 4,
 "nbformat_minor": 5
}
