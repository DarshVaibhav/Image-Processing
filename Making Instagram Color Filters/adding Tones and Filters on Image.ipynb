{
 "cells": [
  {
   "cell_type": "code",
   "execution_count": 7,
   "id": "011a2c6f",
   "metadata": {},
   "outputs": [],
   "source": [
    "import cv2 as cv\n",
    "import numpy as np\n",
    "import matplotlib.pyplot as plt\n",
    "\n",
    "blue = [247, 206, 139]"
   ]
  },
  {
   "cell_type": "code",
   "execution_count": 8,
   "id": "ac63d5e4",
   "metadata": {},
   "outputs": [],
   "source": [
    "background = []\n",
    "\n",
    "for i in range(1488):\n",
    "    temp = []\n",
    "    for j in range(1118):\n",
    "        temp.append(blue)\n",
    "    background.append(temp)\n",
    "\n",
    "background = np.array(background).astype(np.uint8)"
   ]
  },
  {
   "cell_type": "markdown",
   "id": "fa800396",
   "metadata": {},
   "source": [
    "### Merging background with image"
   ]
  },
  {
   "cell_type": "code",
   "execution_count": 9,
   "id": "5494cf60",
   "metadata": {},
   "outputs": [],
   "source": [
    "img = cv.imread('img_5.png')"
   ]
  },
  {
   "cell_type": "code",
   "execution_count": 10,
   "id": "8c953e32",
   "metadata": {},
   "outputs": [],
   "source": [
    "def add_tone(img_path, color, a, b):\n",
    "    \n",
    "    background = []\n",
    "\n",
    "    img = cv.imread(img_path)\n",
    "\n",
    "    cols = img.shape[1]\n",
    "    rows = img.shape[0]\n",
    "\n",
    "\n",
    "    for i in range(rows):\n",
    "        temp = []\n",
    "        for j in range(cols):\n",
    "            temp.append(color)\n",
    "\n",
    "        background.append(temp)\n",
    "\n",
    "    background = np.array(background).astype(np.uint8)\n",
    "\n",
    "    final = cv.addWeighted(img, a , background, b , 0)\n",
    "\n",
    "    cv.imshow('Original',img)\n",
    "    cv.waitKey(0)\n",
    "\n",
    "    cv.imshow('Processed',final)\n",
    "    cv.waitKey(0)"
   ]
  },
  {
   "cell_type": "code",
   "execution_count": 11,
   "id": "493e0754",
   "metadata": {},
   "outputs": [],
   "source": [
    "add_tone('img_5.png', [80,20,34], .8, .2)"
   ]
  },
  {
   "cell_type": "code",
   "execution_count": null,
   "id": "08d91bcb",
   "metadata": {},
   "outputs": [],
   "source": [
    "#blue color filter\n",
    "add_tone('img_3.png', [200,20,80], .5, .5)"
   ]
  }
 ],
 "metadata": {
  "kernelspec": {
   "display_name": "Python 3 (ipykernel)",
   "language": "python",
   "name": "python3"
  },
  "language_info": {
   "codemirror_mode": {
    "name": "ipython",
    "version": 3
   },
   "file_extension": ".py",
   "mimetype": "text/x-python",
   "name": "python",
   "nbconvert_exporter": "python",
   "pygments_lexer": "ipython3",
   "version": "3.9.13"
  }
 },
 "nbformat": 4,
 "nbformat_minor": 5
}
