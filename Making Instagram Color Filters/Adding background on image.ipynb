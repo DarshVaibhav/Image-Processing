{
 "cells": [
  {
   "cell_type": "code",
   "execution_count": 1,
   "id": "d09a6155",
   "metadata": {},
   "outputs": [],
   "source": [
    "import cv2 as cv\n",
    "import numpy as np\n",
    "import matplotlib.pyplot as plt"
   ]
  },
  {
   "cell_type": "code",
   "execution_count": 7,
   "id": "b39ec744",
   "metadata": {},
   "outputs": [],
   "source": [
    "#no need to run this portion\n",
    "def add_tone(img_path, color, a, b):\n",
    "    \n",
    "    background = []\n",
    "\n",
    "    img = cv.imread(img_path)\n",
    "\n",
    "    cols = img.shape[1]\n",
    "    rows = img.shape[0]\n",
    "\n",
    "\n",
    "    for i in range(rows):\n",
    "        temp = []\n",
    "        for j in range(cols):\n",
    "            temp.append(color)\n",
    "\n",
    "        background.append(temp)\n",
    "\n",
    "    background = np.array(background).astype(np.uint8)\n",
    "\n",
    "    final = cv.addWeighted(img, a , background, b , 0)\n",
    "\n",
    "    cv.imshow('Original',img)\n",
    "    cv.waitKey(0)\n",
    "\n",
    "    cv.imshow('Processed',final)\n",
    "    cv.waitKey(0)"
   ]
  },
  {
   "cell_type": "code",
   "execution_count": 11,
   "id": "710ec66d",
   "metadata": {},
   "outputs": [],
   "source": [
    "def merge(foreground_path, background_path, a, b):\n",
    "    \n",
    "    background = []\n",
    "\n",
    "    img        = cv.imread(foreground_path)\n",
    "    background = cv.imread(background_path)\n",
    "    \n",
    "    #background = cv.flip(background, 0)\n",
    "    \n",
    "    background = cv.resize(background, (img.shape[1], img.shape[0]))\n",
    "\n",
    "    final = cv.addWeighted(img, a, background, b , 0)\n",
    "\n",
    "    cv.imshow('Original',img)\n",
    "    cv.waitKey(0)\n",
    "\n",
    "    cv.imshow('Processed',final)\n",
    "    cv.waitKey(0)"
   ]
  },
  {
   "cell_type": "code",
   "execution_count": 12,
   "id": "053dc90d",
   "metadata": {},
   "outputs": [],
   "source": [
    "merge('img_5.png', 'b2.jpeg', .5, .5)"
   ]
  },
  {
   "cell_type": "code",
   "execution_count": 8,
   "id": "b34c5837",
   "metadata": {},
   "outputs": [],
   "source": [
    "img = cv.imread('img_5.png')\n",
    "background = cv.imread('b2.jpeg')"
   ]
  },
  {
   "cell_type": "code",
   "execution_count": 9,
   "id": "bbd14fd6",
   "metadata": {},
   "outputs": [],
   "source": [
    "background = cv.resize(background, (img.shape[1], img.shape[0]))"
   ]
  },
  {
   "cell_type": "code",
   "execution_count": 10,
   "id": "6c0394d6",
   "metadata": {},
   "outputs": [
    {
     "data": {
      "text/plain": [
       "(1488, 1118, 3)"
      ]
     },
     "execution_count": 10,
     "metadata": {},
     "output_type": "execute_result"
    }
   ],
   "source": [
    "background.shape"
   ]
  },
  {
   "cell_type": "code",
   "execution_count": null,
   "id": "6aa36f83",
   "metadata": {},
   "outputs": [],
   "source": []
  }
 ],
 "metadata": {
  "kernelspec": {
   "display_name": "Python 3 (ipykernel)",
   "language": "python",
   "name": "python3"
  },
  "language_info": {
   "codemirror_mode": {
    "name": "ipython",
    "version": 3
   },
   "file_extension": ".py",
   "mimetype": "text/x-python",
   "name": "python",
   "nbconvert_exporter": "python",
   "pygments_lexer": "ipython3",
   "version": "3.9.13"
  }
 },
 "nbformat": 4,
 "nbformat_minor": 5
}
