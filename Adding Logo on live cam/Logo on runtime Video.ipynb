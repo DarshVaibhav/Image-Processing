{
 "cells": [
  {
   "cell_type": "code",
   "execution_count": 5,
   "id": "5996af03",
   "metadata": {},
   "outputs": [],
   "source": [
    "import cv2 as cv\n",
    "import numpy as np"
   ]
  },
  {
   "cell_type": "code",
   "execution_count": 2,
   "id": "2dfbc262",
   "metadata": {},
   "outputs": [],
   "source": [
    "cam = cv.VideoCapture(0)\n",
    "\n",
    "while True:\n",
    "    \n",
    "    _, img = cam.read()\n",
    "\n",
    "    img = cv.flip(img,1)\n",
    "    \n",
    "    cv.imshow('Frame'  , img)\n",
    "     \n",
    "    if cv.waitKey(1) == 27:\n",
    "        cam.release()\n",
    "        break"
   ]
  },
  {
   "cell_type": "code",
   "execution_count": 3,
   "id": "2afcfbaa",
   "metadata": {},
   "outputs": [],
   "source": [
    "logo = cv.imread('download.png')\n",
    "\n",
    "logo = cv.resize(logo, (100,100))"
   ]
  },
  {
   "cell_type": "code",
   "execution_count": 4,
   "id": "24b9f8ec",
   "metadata": {},
   "outputs": [
    {
     "data": {
      "text/plain": [
       "(100, 100, 3)"
      ]
     },
     "execution_count": 4,
     "metadata": {},
     "output_type": "execute_result"
    }
   ],
   "source": [
    "logo.shape"
   ]
  },
  {
   "cell_type": "code",
   "execution_count": 5,
   "id": "2034c884",
   "metadata": {},
   "outputs": [
    {
     "data": {
      "text/plain": [
       "(100, 0, 3)"
      ]
     },
     "execution_count": 5,
     "metadata": {},
     "output_type": "execute_result"
    }
   ],
   "source": [
    "img[ 5 : 105 , 1175 : 1275 ].shape"
   ]
  },
  {
   "cell_type": "code",
   "execution_count": 6,
   "id": "f37b5cd1",
   "metadata": {},
   "outputs": [
    {
     "data": {
      "text/plain": [
       "(480, 640, 3)"
      ]
     },
     "execution_count": 6,
     "metadata": {},
     "output_type": "execute_result"
    }
   ],
   "source": [
    "img.shape"
   ]
  },
  {
   "cell_type": "code",
   "execution_count": 7,
   "id": "31d15d4a",
   "metadata": {},
   "outputs": [
    {
     "data": {
      "text/plain": [
       "(100, 100, 3)"
      ]
     },
     "execution_count": 7,
     "metadata": {},
     "output_type": "execute_result"
    }
   ],
   "source": [
    "logo.shape"
   ]
  },
  {
   "cell_type": "code",
   "execution_count": 8,
   "id": "2d3e77d3",
   "metadata": {},
   "outputs": [
    {
     "ename": "ValueError",
     "evalue": "could not broadcast input array from shape (50,50,3) into shape (50,150,3)",
     "output_type": "error",
     "traceback": [
      "\u001b[1;31m---------------------------------------------------------------------------\u001b[0m",
      "\u001b[1;31mValueError\u001b[0m                                Traceback (most recent call last)",
      "\u001b[1;32m~\\AppData\\Local\\Temp\\ipykernel_15564\\3272287187.py\u001b[0m in \u001b[0;36m<module>\u001b[1;34m\u001b[0m\n\u001b[0;32m     10\u001b[0m     \u001b[0mimg\u001b[0m \u001b[1;33m=\u001b[0m \u001b[0mcv\u001b[0m\u001b[1;33m.\u001b[0m\u001b[0mflip\u001b[0m\u001b[1;33m(\u001b[0m\u001b[0mimg\u001b[0m\u001b[1;33m,\u001b[0m\u001b[1;36m1\u001b[0m\u001b[1;33m)\u001b[0m\u001b[1;33m\u001b[0m\u001b[1;33m\u001b[0m\u001b[0m\n\u001b[0;32m     11\u001b[0m \u001b[1;33m\u001b[0m\u001b[0m\n\u001b[1;32m---> 12\u001b[1;33m     \u001b[0mimg\u001b[0m\u001b[1;33m[\u001b[0m \u001b[1;36m5\u001b[0m \u001b[1;33m:\u001b[0m \u001b[1;36m55\u001b[0m \u001b[1;33m,\u001b[0m \u001b[1;36m225\u001b[0m \u001b[1;33m:\u001b[0m \u001b[1;36m375\u001b[0m \u001b[1;33m]\u001b[0m \u001b[1;33m=\u001b[0m \u001b[0mlogo\u001b[0m\u001b[1;33m\u001b[0m\u001b[1;33m\u001b[0m\u001b[0m\n\u001b[0m\u001b[0;32m     13\u001b[0m \u001b[1;33m\u001b[0m\u001b[0m\n\u001b[0;32m     14\u001b[0m     \u001b[0mcv\u001b[0m\u001b[1;33m.\u001b[0m\u001b[0mimshow\u001b[0m\u001b[1;33m(\u001b[0m\u001b[1;34m'Frame'\u001b[0m  \u001b[1;33m,\u001b[0m \u001b[0mimg\u001b[0m\u001b[1;33m)\u001b[0m\u001b[1;33m\u001b[0m\u001b[1;33m\u001b[0m\u001b[0m\n",
      "\u001b[1;31mValueError\u001b[0m: could not broadcast input array from shape (50,50,3) into shape (50,150,3)"
     ]
    }
   ],
   "source": [
    "cam = cv.VideoCapture(0)\n",
    "\n",
    "logo = cv.imread('download.png')\n",
    "logo = cv.resize(logo, (50,50))\n",
    "\n",
    "while True:\n",
    "    \n",
    "    _, img = cam.read()\n",
    "\n",
    "    img = cv.flip(img,1)\n",
    "    \n",
    "    img[ 5 : 55 , 225 : 375 ] = logo\n",
    "\n",
    "    cv.imshow('Frame'  , img)\n",
    "     \n",
    "    if cv.waitKey(1) == 27:\n",
    "        cam.release()\n",
    "        break"
   ]
  },
  {
   "cell_type": "markdown",
   "id": "bb874b8e",
   "metadata": {},
   "source": [
    "#### 1. Top Right\n",
    "Height (1% = Margin | 7% = Logo | 92% = Vacant) 720\n",
    "\n",
    "Width (95.5% = Margin | 4% = Logo | .5% = Vacant) 1280"
   ]
  },
  {
   "cell_type": "code",
   "execution_count": 2,
   "id": "a624efd3",
   "metadata": {},
   "outputs": [],
   "source": [
    "cam = cv.VideoCapture(0)\n",
    "\n",
    "logo = cv.imread('download.png')\n",
    "\n",
    "while True:\n",
    "    \n",
    "    _, img = cam.read()\n",
    "\n",
    "    img = cv.flip(img,1)\n",
    "    \n",
    "    ht = img.shape[0]\n",
    "    wt = img.shape[1]\n",
    "    \n",
    "    margin_top  = int(ht/100)             # 1%\n",
    "    logo_height = int((ht/100)*7)         # 7%\n",
    "    \n",
    "    margin_left = int((wt/100)*95.5)      # 95.5%\n",
    "    logo_width  = int((wt/100)*4)         # 4%\n",
    "    \n",
    "    \n",
    "    logo = cv.resize(logo, (logo_width, logo_width))\n",
    "    \n",
    "    \n",
    "    img[ margin_top : logo_width + margin_top , margin_left : margin_left + logo_width ] = logo\n",
    "\n",
    "    cv.imshow('Frame'  , img)\n",
    "     \n",
    "    if cv.waitKey(1) == 27:\n",
    "        cam.release()\n",
    "        break"
   ]
  },
  {
   "cell_type": "markdown",
   "id": "bcb36d11",
   "metadata": {},
   "source": [
    "#### 2. Top Left\n",
    "Height (1% = Margin | 7% = Logo | 92% = Vacant) 720\n",
    "\n",
    "Width (.5% = Margin | 4% = Logo | 95.5% = Vacant) 1280"
   ]
  },
  {
   "cell_type": "code",
   "execution_count": 4,
   "id": "17f16fc6",
   "metadata": {},
   "outputs": [],
   "source": [
    "cam = cv.VideoCapture(0)\n",
    "\n",
    "logo = cv.imread('download.png')\n",
    "\n",
    "while True:\n",
    "    \n",
    "    _, img = cam.read()\n",
    "\n",
    "    img = cv.flip(img,1)\n",
    "    \n",
    "    ht = img.shape[0]\n",
    "    wt = img.shape[1]\n",
    "    \n",
    "    margin_top  = int(ht/100)             # 1%\n",
    "    logo_height = int((ht/100)*7)         # 7%\n",
    "    \n",
    "    margin_left = int((wt/100)*.5)        # .5%\n",
    "    logo_width  = int((wt/100)*4)         # 4%\n",
    "    \n",
    "    \n",
    "    logo = cv.resize(logo, (logo_width, logo_width))\n",
    "    \n",
    "    \n",
    "    img[ margin_top : logo_width + margin_top , margin_left : margin_left + logo_width ] = logo\n",
    "\n",
    "    cv.imshow('Frame'  , img)\n",
    "     \n",
    "    if cv.waitKey(1) == 27:\n",
    "        cam.release()\n",
    "        break"
   ]
  },
  {
   "cell_type": "markdown",
   "id": "847dbcdb",
   "metadata": {},
   "source": [
    "#### 3. Bottom Left\n",
    "Height (92% = Margin | 7% = Logo | 1% = Vacant) 720\n",
    "\n",
    "Width (.5% = Margin | 4% = Logo | 95.5% = Vacant) 1280"
   ]
  },
  {
   "cell_type": "code",
   "execution_count": 6,
   "id": "5557650d",
   "metadata": {},
   "outputs": [],
   "source": [
    "cam = cv.VideoCapture(0)\n",
    "\n",
    "logo = cv.imread('download.png')\n",
    "\n",
    "while True:\n",
    "    \n",
    "    _, img = cam.read()\n",
    "\n",
    "    img = cv.flip(img,1)\n",
    "    \n",
    "    ht = img.shape[0]\n",
    "    wt = img.shape[1]\n",
    "    \n",
    "    margin_top  = int((ht/100)*92)        # 92%\n",
    "    logo_height = int((ht/100)*7)         # 7%\n",
    "    \n",
    "    margin_left = int((wt/100)*.5)        # .5%\n",
    "    logo_width  = int((wt/100)*4)         # 4%\n",
    "    \n",
    "    \n",
    "    logo = cv.resize(logo, (logo_width, logo_width))\n",
    "    \n",
    "    \n",
    "    img[ margin_top : logo_width + margin_top , margin_left : margin_left + logo_width ] = logo\n",
    "\n",
    "    cv.imshow('Frame'  , img)\n",
    "     \n",
    "    if cv.waitKey(1) == 27:\n",
    "        cam.release()\n",
    "        break"
   ]
  },
  {
   "cell_type": "markdown",
   "id": "2d8c0711",
   "metadata": {},
   "source": [
    "#### 4. Bottom Right\n",
    "Height (92% = Margin | 7% = Logo | 1% = Vacant) 720\n",
    "\n",
    "Width (.5% = Margin | 4% = Logo | 95.5% = Vacant) 1280"
   ]
  },
  {
   "cell_type": "code",
   "execution_count": 8,
   "id": "7ef6f172",
   "metadata": {},
   "outputs": [],
   "source": [
    "cam = cv.VideoCapture(0)\n",
    "\n",
    "logo = cv.imread('download.png')\n",
    "\n",
    "while True:\n",
    "    \n",
    "    _, img = cam.read()\n",
    "\n",
    "    img = cv.flip(img,1)\n",
    "    \n",
    "    ht = img.shape[0]\n",
    "    wt = img.shape[1]\n",
    "    \n",
    "    margin_top  = int((ht/100)*92)        # 92%\n",
    "    logo_height = int((ht/100)*7)         # 7%\n",
    "    \n",
    "    margin_left = int((wt/100)*.5)        # .5%\n",
    "    logo_width  = int((wt/100)*4)         # 4%\n",
    "    \n",
    "    \n",
    "    logo = cv.resize(logo, (logo_width, logo_width))\n",
    "    \n",
    "    \n",
    "    img[ margin_top : logo_width + margin_top , margin_left : margin_left + logo_width ] = logo\n",
    "\n",
    "    cv.imshow('Frame'  , img)\n",
    "     \n",
    "    if cv.waitKey(1) == 27:\n",
    "        cam.release()\n",
    "        break"
   ]
  },
  {
   "cell_type": "markdown",
   "id": "045f5e16",
   "metadata": {},
   "source": [
    "### 5. Merging Everything"
   ]
  },
  {
   "cell_type": "code",
   "execution_count": 9,
   "id": "dc0f6008",
   "metadata": {},
   "outputs": [],
   "source": [
    "import cv2 as cv\n",
    "import numpy as np\n",
    " \n",
    "cam = cv.VideoCapture(0)\n",
    "\n",
    "logo = cv.imread('download.png')\n",
    "\n",
    "while True:\n",
    "    \n",
    "    _, img = cam.read()\n",
    "\n",
    "    img = cv.flip(img,1)\n",
    "    \n",
    "    ht = img.shape[0]\n",
    "    wt = img.shape[1]\n",
    "    \n",
    "#    Top Right\n",
    "    margin_top  = int(ht/100)             # 1%\n",
    "    logo_height = int((ht/100)*7)         # 7%\n",
    "    margin_left = int((wt/100)*95.5)      # 95.5%\n",
    "    logo_width  = int((wt/100)*4)         # 4%\n",
    "    logo = cv.resize(logo, (logo_width, logo_width))\n",
    "    img[ margin_top : logo_width + margin_top , margin_left : margin_left + logo_width ] = logo\n",
    "    \n",
    "#   Top Left\n",
    "    margin_top  = int(ht/100)             # 1%\n",
    "    logo_height = int((ht/100)*7)         # 7%\n",
    "    margin_left = int((wt/100)*.5)        # .5%\n",
    "    logo_width  = int((wt/100)*4)         # 4%\n",
    "    logo = cv.resize(logo, (logo_width, logo_width))\n",
    "    img[ margin_top : logo_width + margin_top , margin_left : margin_left + logo_width ] = logo\n",
    "    \n",
    "#   Bottom Left\n",
    "    margin_top  = int((ht/100)*92)        # 92%\n",
    "    logo_height = int((ht/100)*7)         # 7%\n",
    "    margin_left = int((wt/100)*.5)        # .5%\n",
    "    logo_width  = int((wt/100)*4)         # 4%\n",
    "    logo = cv.resize(logo, (logo_width, logo_width))\n",
    "    img[ margin_top : logo_width + margin_top , margin_left : margin_left + logo_width ] = logo\n",
    "\n",
    "#   Bottom Right\n",
    "    margin_top  = int((ht/100)*92)        # 92%\n",
    "    logo_height = int((ht/100)*7)         # 7%\n",
    "    margin_left = int((wt/100)*.5)        # .5%\n",
    "    logo_width  = int((wt/100)*4)         # 4%\n",
    "    logo = cv.resize(logo, (logo_width, logo_width))\n",
    "    img[ margin_top : logo_width + margin_top , margin_left : margin_left + logo_width ] = logo\n",
    "    \n",
    "    \n",
    "    cv.imshow('Frame'  , img)\n",
    "     \n",
    "    if cv.waitKey(1) == 27:\n",
    "        cam.release()\n",
    "        break  "
   ]
  },
  {
   "cell_type": "markdown",
   "id": "ebd84ece",
   "metadata": {},
   "source": [
    "### How to Perform Dynamic Fit for a Logo in OpenCV?"
   ]
  },
  {
   "cell_type": "code",
   "execution_count": 2,
   "id": "3d900381",
   "metadata": {},
   "outputs": [],
   "source": [
    "import cv2 as cv\n",
    "import numpy as np\n",
    " \n",
    "cam = cv.VideoCapture(0)\n",
    "\n",
    "logo = cv.imread('download.png')\n",
    "\n",
    "r = 1280\n",
    "\n",
    "while True:\n",
    "    \n",
    "    logo = cv.imread('download.png')\n",
    "    _, img = cam.read()\n",
    "\n",
    "    img = cv.flip(img,1)\n",
    "    \n",
    "    img = img[ : , :r  ]\n",
    "    \n",
    "#     img = cv.resize(img, (720,720))\n",
    "    \n",
    "    ht = img.shape[0]\n",
    "    wt = img.shape[1]\n",
    "    \n",
    "    margin_top  = int(ht/100)             # 1%\n",
    "    logo_height = int((ht/100)*7)         # 7%\n",
    "    \n",
    "    margin_left = int((wt/100)*95.5)      # 95.5%\n",
    "    logo_width  = int((wt/100)*4)         # 4%\n",
    "    \n",
    "    side = min(logo_width,logo_height)\n",
    "    \n",
    "    logo = cv.resize(logo, (side, side))\n",
    "    \n",
    "    img[ margin_top : side + margin_top , margin_left : margin_left + side ] = logo\n",
    "\n",
    "    cv.imshow('Frame'  , img)\n",
    "    \n",
    "    if (cv.waitKey(1) == 115):\n",
    "        r -= 10\n",
    "    \n",
    "    elif (cv.waitKey(1) == 119):\n",
    "        r += 10\n",
    "    \n",
    "    elif cv.waitKey(1) == 27:\n",
    "        cam.release()\n",
    "        break"
   ]
  },
  {
   "cell_type": "markdown",
   "id": "03c22997",
   "metadata": {},
   "source": [
    "### Final Fit for a Logo in OpenCV?"
   ]
  },
  {
   "cell_type": "code",
   "execution_count": 3,
   "id": "d07e4722",
   "metadata": {},
   "outputs": [],
   "source": [
    "import cv2 as cv\n",
    "import numpy as np\n",
    " \n",
    "cam = cv.VideoCapture(0)\n",
    "\n",
    "logo = cv.imread('download.png')\n",
    "\n",
    "while True:\n",
    "    \n",
    "    logo = cv.imread('download.png')\n",
    "    _, img = cam.read()\n",
    "\n",
    "    img = cv.flip(img,1)\n",
    "        \n",
    "#     img = cv.resize(img, (int(img.shape[1] * scaling_factor), int(img.shape[0] * scaling_factor)))\n",
    "    \n",
    "    \n",
    "    ht = img.shape[0]\n",
    "    wt = img.shape[1]\n",
    "    \n",
    "    margin_top  = int(ht/100)             # 1%\n",
    "    logo_height = int((ht/100)*7)         # 7%\n",
    "    \n",
    "    margin_left = int((wt/100)*95.5)      # 95.5%\n",
    "    logo_width  = int((wt/100)*4)         # 4%\n",
    "    \n",
    "    side = min(logo_width,logo_height)\n",
    "    \n",
    "    logo = cv.resize(logo, (side, side))\n",
    "    \n",
    "    img[ margin_top : side + margin_top , margin_left : margin_left + side ] = logo\n",
    "\n",
    "    cv.imshow('Frame'  , img)\n",
    "    \n",
    "    if cv.waitKey(1) == 27:\n",
    "        cam.release()\n",
    "        break"
   ]
  },
  {
   "cell_type": "code",
   "execution_count": 4,
   "id": "be025fdc",
   "metadata": {},
   "outputs": [
    {
     "data": {
      "text/plain": [
       "(480, 640)"
      ]
     },
     "execution_count": 4,
     "metadata": {},
     "output_type": "execute_result"
    }
   ],
   "source": [
    "scaling_factor = 1.0\n",
    "\n",
    "int(img.shape[0] * scaling_factor), int(img.shape[1] * scaling_factor)"
   ]
  },
  {
   "cell_type": "code",
   "execution_count": 5,
   "id": "34d8f122",
   "metadata": {},
   "outputs": [
    {
     "data": {
      "text/plain": [
       "1.0"
      ]
     },
     "execution_count": 5,
     "metadata": {},
     "output_type": "execute_result"
    }
   ],
   "source": [
    "scaling_factor"
   ]
  },
  {
   "cell_type": "markdown",
   "id": "290b1c27",
   "metadata": {},
   "source": [
    "### How to Add Transparency to a Logo in OpenCV?"
   ]
  },
  {
   "cell_type": "code",
   "execution_count": 6,
   "id": "5aa5da00",
   "metadata": {},
   "outputs": [],
   "source": [
    "import cv2 as cv\n",
    "import numpy as np\n",
    " \n",
    "cam = cv.VideoCapture(0)\n",
    "\n",
    "logo = cv.imread('download.png')\n",
    "\n",
    "while True:\n",
    "    \n",
    "    logo = cv.imread('download.png')\n",
    "    _, img = cam.read()\n",
    "    img = cv.flip(img,1)\n",
    "    \n",
    "    \n",
    "    ht = img.shape[0]\n",
    "    wt = img.shape[1]\n",
    "    \n",
    "    margin_top  = int(ht/100)             # 1%\n",
    "    logo_height = int((ht/100)*7)         # 7%\n",
    "    \n",
    "    margin_left = int((wt/100)*95.5)      # 95.5%\n",
    "    logo_width  = int((wt/100)*4)         # 4%\n",
    "    \n",
    "    side = min(logo_width,logo_height)\n",
    "    \n",
    "    bg   = img[ margin_top : side + margin_top , margin_left : margin_left + side ].copy()\n",
    "    logo = cv.resize(logo, (side, side))\n",
    "    \n",
    "    final_logo = cv.addWeighted(bg, .3, logo, .7, 0)\n",
    "    \n",
    "    img[ margin_top : side + margin_top , margin_left : margin_left + side ] = final_logo\n",
    "\n",
    "    cv.imshow('Frame'  , img )\n",
    "    cv.imshow('BG'     , bg  )\n",
    "    \n",
    "    if cv.waitKey(1) == 27:\n",
    "        cam.release()\n",
    "        break  "
   ]
  },
  {
   "cell_type": "code",
   "execution_count": null,
   "id": "14b0a215",
   "metadata": {},
   "outputs": [],
   "source": []
  }
 ],
 "metadata": {
  "kernelspec": {
   "display_name": "Python 3 (ipykernel)",
   "language": "python",
   "name": "python3"
  },
  "language_info": {
   "codemirror_mode": {
    "name": "ipython",
    "version": 3
   },
   "file_extension": ".py",
   "mimetype": "text/x-python",
   "name": "python",
   "nbconvert_exporter": "python",
   "pygments_lexer": "ipython3",
   "version": "3.9.13"
  }
 },
 "nbformat": 4,
 "nbformat_minor": 5
}
